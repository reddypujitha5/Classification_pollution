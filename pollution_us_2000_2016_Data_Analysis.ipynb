{
 "cells": [
  {
   "cell_type": "markdown",
   "metadata": {},
   "source": [
    "# Analysis of pollution_us_2000_2016 dataset"
   ]
  },
  {
   "cell_type": "markdown",
   "metadata": {},
   "source": [
    "## About Dataset"
   ]
  },
  {
   "cell_type": "markdown",
   "metadata": {},
   "source": [
    "### General Information\n",
    "* Original format: csv\n",
    "* Dataset shape: 1.746.661 x 30 (rows x columns)\n",
    "* Granularity: Combination of State-County-City-Site_num-Date_local features\n",
    "* Usability: Many nulls and duplicates. See chapter 1.3.\n",
    "\n",
    "### Features in the dataset\n",
    "\n",
    "* Id - Not unique integer\n",
    "* State_code\n",
    "* Country_code\n",
    "* Site_num- Number of measurement site\n",
    "* Address, State_name, County, City\n",
    "* date_local - Date of the measurement\n",
    "* (*4x) Unit - Unit of the measurement\n",
    "* (4x) Mean\n",
    "* (4x) Max_value\n",
    "* (4x) Max_hour - Hour of the max value\n",
    "* (4x) AQI - Air Quality Index. A standard measure for air quality that can be used to compare pollutants. Since AQI allows us to compare different pollutants, we won't use the other pollutant features. There are AQI bands according to risk to health. The bands are defined on the image below."
   ]
  },
  {
   "cell_type": "markdown",
   "metadata": {},
   "source": [
    "### Air Quality Index\n",
    "\n",
    "* 301-500 Hazardous\n",
    "* 201-300 Very Unhealthy\n",
    "* 151-200 Unhealthy\n",
    "* 101-150 Unhealthy for Sensitivity Groups\n",
    "* 51-100 Moderate\n",
    "* 0-50 Good\n"
   ]
  },
  {
   "cell_type": "markdown",
   "metadata": {},
   "source": [
    "### Library imports"
   ]
  },
  {
   "cell_type": "code",
   "execution_count": 2,
   "metadata": {},
   "outputs": [],
   "source": [
    "import numpy as np\n",
    "import pandas as pd\n",
    "import matplotlib.pyplot as plt\n",
    "import seaborn as sns\n",
    "%matplotlib inline"
   ]
  },
  {
   "cell_type": "markdown",
   "metadata": {},
   "source": [
    "### Exploring dataset"
   ]
  },
  {
   "cell_type": "code",
   "execution_count": 3,
   "metadata": {},
   "outputs": [
    {
     "data": {
      "text/html": [
       "<div>\n",
       "<style scoped>\n",
       "    .dataframe tbody tr th:only-of-type {\n",
       "        vertical-align: middle;\n",
       "    }\n",
       "\n",
       "    .dataframe tbody tr th {\n",
       "        vertical-align: top;\n",
       "    }\n",
       "\n",
       "    .dataframe thead th {\n",
       "        text-align: right;\n",
       "    }\n",
       "</style>\n",
       "<table border=\"1\" class=\"dataframe\">\n",
       "  <thead>\n",
       "    <tr style=\"text-align: right;\">\n",
       "      <th></th>\n",
       "      <th>Unnamed: 0</th>\n",
       "      <th>State Code</th>\n",
       "      <th>County Code</th>\n",
       "      <th>Site Num</th>\n",
       "      <th>Address</th>\n",
       "      <th>State</th>\n",
       "      <th>County</th>\n",
       "      <th>City</th>\n",
       "      <th>Date Local</th>\n",
       "      <th>NO2 Units</th>\n",
       "      <th>...</th>\n",
       "      <th>SO2 Units</th>\n",
       "      <th>SO2 Mean</th>\n",
       "      <th>SO2 1st Max Value</th>\n",
       "      <th>SO2 1st Max Hour</th>\n",
       "      <th>SO2 AQI</th>\n",
       "      <th>CO Units</th>\n",
       "      <th>CO Mean</th>\n",
       "      <th>CO 1st Max Value</th>\n",
       "      <th>CO 1st Max Hour</th>\n",
       "      <th>CO AQI</th>\n",
       "    </tr>\n",
       "  </thead>\n",
       "  <tbody>\n",
       "    <tr>\n",
       "      <th>0</th>\n",
       "      <td>0</td>\n",
       "      <td>4</td>\n",
       "      <td>13</td>\n",
       "      <td>3002</td>\n",
       "      <td>1645 E ROOSEVELT ST-CENTRAL PHOENIX STN</td>\n",
       "      <td>Arizona</td>\n",
       "      <td>Maricopa</td>\n",
       "      <td>Phoenix</td>\n",
       "      <td>2000-01-01</td>\n",
       "      <td>Parts per billion</td>\n",
       "      <td>...</td>\n",
       "      <td>Parts per billion</td>\n",
       "      <td>3.000</td>\n",
       "      <td>9.0</td>\n",
       "      <td>21</td>\n",
       "      <td>13.0</td>\n",
       "      <td>Parts per million</td>\n",
       "      <td>1.145833</td>\n",
       "      <td>4.2</td>\n",
       "      <td>21</td>\n",
       "      <td>NaN</td>\n",
       "    </tr>\n",
       "    <tr>\n",
       "      <th>1</th>\n",
       "      <td>1</td>\n",
       "      <td>4</td>\n",
       "      <td>13</td>\n",
       "      <td>3002</td>\n",
       "      <td>1645 E ROOSEVELT ST-CENTRAL PHOENIX STN</td>\n",
       "      <td>Arizona</td>\n",
       "      <td>Maricopa</td>\n",
       "      <td>Phoenix</td>\n",
       "      <td>2000-01-01</td>\n",
       "      <td>Parts per billion</td>\n",
       "      <td>...</td>\n",
       "      <td>Parts per billion</td>\n",
       "      <td>3.000</td>\n",
       "      <td>9.0</td>\n",
       "      <td>21</td>\n",
       "      <td>13.0</td>\n",
       "      <td>Parts per million</td>\n",
       "      <td>0.878947</td>\n",
       "      <td>2.2</td>\n",
       "      <td>23</td>\n",
       "      <td>25.0</td>\n",
       "    </tr>\n",
       "    <tr>\n",
       "      <th>2</th>\n",
       "      <td>2</td>\n",
       "      <td>4</td>\n",
       "      <td>13</td>\n",
       "      <td>3002</td>\n",
       "      <td>1645 E ROOSEVELT ST-CENTRAL PHOENIX STN</td>\n",
       "      <td>Arizona</td>\n",
       "      <td>Maricopa</td>\n",
       "      <td>Phoenix</td>\n",
       "      <td>2000-01-01</td>\n",
       "      <td>Parts per billion</td>\n",
       "      <td>...</td>\n",
       "      <td>Parts per billion</td>\n",
       "      <td>2.975</td>\n",
       "      <td>6.6</td>\n",
       "      <td>23</td>\n",
       "      <td>NaN</td>\n",
       "      <td>Parts per million</td>\n",
       "      <td>1.145833</td>\n",
       "      <td>4.2</td>\n",
       "      <td>21</td>\n",
       "      <td>NaN</td>\n",
       "    </tr>\n",
       "  </tbody>\n",
       "</table>\n",
       "<p>3 rows × 29 columns</p>\n",
       "</div>"
      ],
      "text/plain": [
       "   Unnamed: 0  State Code  County Code  Site Num  \\\n",
       "0           0           4           13      3002   \n",
       "1           1           4           13      3002   \n",
       "2           2           4           13      3002   \n",
       "\n",
       "                                   Address    State    County     City  \\\n",
       "0  1645 E ROOSEVELT ST-CENTRAL PHOENIX STN  Arizona  Maricopa  Phoenix   \n",
       "1  1645 E ROOSEVELT ST-CENTRAL PHOENIX STN  Arizona  Maricopa  Phoenix   \n",
       "2  1645 E ROOSEVELT ST-CENTRAL PHOENIX STN  Arizona  Maricopa  Phoenix   \n",
       "\n",
       "   Date Local          NO2 Units  ...          SO2 Units  SO2 Mean  \\\n",
       "0  2000-01-01  Parts per billion  ...  Parts per billion     3.000   \n",
       "1  2000-01-01  Parts per billion  ...  Parts per billion     3.000   \n",
       "2  2000-01-01  Parts per billion  ...  Parts per billion     2.975   \n",
       "\n",
       "   SO2 1st Max Value  SO2 1st Max Hour SO2 AQI           CO Units   CO Mean  \\\n",
       "0                9.0                21    13.0  Parts per million  1.145833   \n",
       "1                9.0                21    13.0  Parts per million  0.878947   \n",
       "2                6.6                23     NaN  Parts per million  1.145833   \n",
       "\n",
       "   CO 1st Max Value  CO 1st Max Hour CO AQI  \n",
       "0               4.2               21    NaN  \n",
       "1               2.2               23   25.0  \n",
       "2               4.2               21    NaN  \n",
       "\n",
       "[3 rows x 29 columns]"
      ]
     },
     "execution_count": 3,
     "metadata": {},
     "output_type": "execute_result"
    }
   ],
   "source": [
    "df = pd.read_csv('pollution_us_2000_2016.csv')\n",
    "df.head(3)"
   ]
  },
  {
   "cell_type": "markdown",
   "metadata": {},
   "source": [
    "##### Overall Dataset description\n",
    "\n",
    "* This will concisely show the dataset"
   ]
  },
  {
   "cell_type": "code",
   "execution_count": 4,
   "metadata": {},
   "outputs": [
    {
     "data": {
      "text/html": [
       "<div>\n",
       "<style scoped>\n",
       "    .dataframe tbody tr th:only-of-type {\n",
       "        vertical-align: middle;\n",
       "    }\n",
       "\n",
       "    .dataframe tbody tr th {\n",
       "        vertical-align: top;\n",
       "    }\n",
       "\n",
       "    .dataframe thead th {\n",
       "        text-align: right;\n",
       "    }\n",
       "</style>\n",
       "<table border=\"1\" class=\"dataframe\">\n",
       "  <thead>\n",
       "    <tr style=\"text-align: right;\">\n",
       "      <th></th>\n",
       "      <th>Unnamed: 0</th>\n",
       "      <th>State Code</th>\n",
       "      <th>County Code</th>\n",
       "      <th>Site Num</th>\n",
       "      <th>NO2 Mean</th>\n",
       "      <th>NO2 1st Max Value</th>\n",
       "      <th>NO2 1st Max Hour</th>\n",
       "      <th>NO2 AQI</th>\n",
       "      <th>O3 Mean</th>\n",
       "      <th>O3 1st Max Value</th>\n",
       "      <th>O3 1st Max Hour</th>\n",
       "      <th>O3 AQI</th>\n",
       "      <th>SO2 Mean</th>\n",
       "      <th>SO2 1st Max Value</th>\n",
       "      <th>SO2 1st Max Hour</th>\n",
       "      <th>SO2 AQI</th>\n",
       "      <th>CO Mean</th>\n",
       "      <th>CO 1st Max Value</th>\n",
       "      <th>CO 1st Max Hour</th>\n",
       "      <th>CO AQI</th>\n",
       "    </tr>\n",
       "  </thead>\n",
       "  <tbody>\n",
       "    <tr>\n",
       "      <th>count</th>\n",
       "      <td>1.746661e+06</td>\n",
       "      <td>1.746661e+06</td>\n",
       "      <td>1.746661e+06</td>\n",
       "      <td>1.746661e+06</td>\n",
       "      <td>1.746661e+06</td>\n",
       "      <td>1.746661e+06</td>\n",
       "      <td>1.746661e+06</td>\n",
       "      <td>1.746661e+06</td>\n",
       "      <td>1.746661e+06</td>\n",
       "      <td>1.746661e+06</td>\n",
       "      <td>1.746661e+06</td>\n",
       "      <td>1.746661e+06</td>\n",
       "      <td>1.746661e+06</td>\n",
       "      <td>1.746661e+06</td>\n",
       "      <td>1.746661e+06</td>\n",
       "      <td>873754.000000</td>\n",
       "      <td>1.746661e+06</td>\n",
       "      <td>1.746661e+06</td>\n",
       "      <td>1.746661e+06</td>\n",
       "      <td>873338.000000</td>\n",
       "    </tr>\n",
       "    <tr>\n",
       "      <th>mean</th>\n",
       "      <td>5.471414e+04</td>\n",
       "      <td>2.230907e+01</td>\n",
       "      <td>7.169381e+01</td>\n",
       "      <td>1.118214e+03</td>\n",
       "      <td>1.282193e+01</td>\n",
       "      <td>2.541485e+01</td>\n",
       "      <td>1.173102e+01</td>\n",
       "      <td>2.389822e+01</td>\n",
       "      <td>2.612485e-02</td>\n",
       "      <td>3.920331e-02</td>\n",
       "      <td>1.017053e+01</td>\n",
       "      <td>3.605012e+01</td>\n",
       "      <td>1.870364e+00</td>\n",
       "      <td>4.492185e+00</td>\n",
       "      <td>9.664906e+00</td>\n",
       "      <td>7.115945</td>\n",
       "      <td>3.682177e-01</td>\n",
       "      <td>6.201067e-01</td>\n",
       "      <td>7.875026e+00</td>\n",
       "      <td>5.996595</td>\n",
       "    </tr>\n",
       "    <tr>\n",
       "      <th>std</th>\n",
       "      <td>3.372908e+04</td>\n",
       "      <td>1.725621e+01</td>\n",
       "      <td>7.948023e+01</td>\n",
       "      <td>2.003103e+03</td>\n",
       "      <td>9.504814e+00</td>\n",
       "      <td>1.599963e+01</td>\n",
       "      <td>7.877501e+00</td>\n",
       "      <td>1.516280e+01</td>\n",
       "      <td>1.136974e-02</td>\n",
       "      <td>1.534362e-02</td>\n",
       "      <td>4.003144e+00</td>\n",
       "      <td>1.978042e+01</td>\n",
       "      <td>2.760435e+00</td>\n",
       "      <td>7.679866e+00</td>\n",
       "      <td>6.731228e+00</td>\n",
       "      <td>11.937473</td>\n",
       "      <td>3.140231e-01</td>\n",
       "      <td>6.439361e-01</td>\n",
       "      <td>7.978844e+00</td>\n",
       "      <td>5.851836</td>\n",
       "    </tr>\n",
       "    <tr>\n",
       "      <th>min</th>\n",
       "      <td>0.000000e+00</td>\n",
       "      <td>1.000000e+00</td>\n",
       "      <td>1.000000e+00</td>\n",
       "      <td>1.000000e+00</td>\n",
       "      <td>-2.000000e+00</td>\n",
       "      <td>-2.000000e+00</td>\n",
       "      <td>0.000000e+00</td>\n",
       "      <td>0.000000e+00</td>\n",
       "      <td>0.000000e+00</td>\n",
       "      <td>0.000000e+00</td>\n",
       "      <td>0.000000e+00</td>\n",
       "      <td>0.000000e+00</td>\n",
       "      <td>-2.000000e+00</td>\n",
       "      <td>-2.000000e+00</td>\n",
       "      <td>0.000000e+00</td>\n",
       "      <td>0.000000</td>\n",
       "      <td>-4.375000e-01</td>\n",
       "      <td>-4.000000e-01</td>\n",
       "      <td>0.000000e+00</td>\n",
       "      <td>0.000000</td>\n",
       "    </tr>\n",
       "    <tr>\n",
       "      <th>25%</th>\n",
       "      <td>2.575300e+04</td>\n",
       "      <td>6.000000e+00</td>\n",
       "      <td>1.700000e+01</td>\n",
       "      <td>9.000000e+00</td>\n",
       "      <td>5.750000e+00</td>\n",
       "      <td>1.300000e+01</td>\n",
       "      <td>5.000000e+00</td>\n",
       "      <td>1.200000e+01</td>\n",
       "      <td>1.787500e-02</td>\n",
       "      <td>2.900000e-02</td>\n",
       "      <td>9.000000e+00</td>\n",
       "      <td>2.500000e+01</td>\n",
       "      <td>2.565220e-01</td>\n",
       "      <td>8.000000e-01</td>\n",
       "      <td>5.000000e+00</td>\n",
       "      <td>1.000000</td>\n",
       "      <td>1.834580e-01</td>\n",
       "      <td>2.920000e-01</td>\n",
       "      <td>0.000000e+00</td>\n",
       "      <td>2.000000</td>\n",
       "    </tr>\n",
       "    <tr>\n",
       "      <th>50%</th>\n",
       "      <td>5.304500e+04</td>\n",
       "      <td>1.700000e+01</td>\n",
       "      <td>5.900000e+01</td>\n",
       "      <td>6.000000e+01</td>\n",
       "      <td>1.073913e+01</td>\n",
       "      <td>2.400000e+01</td>\n",
       "      <td>9.000000e+00</td>\n",
       "      <td>2.300000e+01</td>\n",
       "      <td>2.587500e-02</td>\n",
       "      <td>3.800000e-02</td>\n",
       "      <td>1.000000e+01</td>\n",
       "      <td>3.300000e+01</td>\n",
       "      <td>9.875000e-01</td>\n",
       "      <td>2.000000e+00</td>\n",
       "      <td>8.000000e+00</td>\n",
       "      <td>3.000000</td>\n",
       "      <td>2.926250e-01</td>\n",
       "      <td>4.000000e-01</td>\n",
       "      <td>6.000000e+00</td>\n",
       "      <td>5.000000</td>\n",
       "    </tr>\n",
       "    <tr>\n",
       "      <th>75%</th>\n",
       "      <td>8.033600e+04</td>\n",
       "      <td>4.000000e+01</td>\n",
       "      <td>9.700000e+01</td>\n",
       "      <td>1.039000e+03</td>\n",
       "      <td>1.771364e+01</td>\n",
       "      <td>3.570000e+01</td>\n",
       "      <td>2.000000e+01</td>\n",
       "      <td>3.300000e+01</td>\n",
       "      <td>3.391700e-02</td>\n",
       "      <td>4.800000e-02</td>\n",
       "      <td>1.100000e+01</td>\n",
       "      <td>4.200000e+01</td>\n",
       "      <td>2.325000e+00</td>\n",
       "      <td>5.000000e+00</td>\n",
       "      <td>1.400000e+01</td>\n",
       "      <td>9.000000</td>\n",
       "      <td>4.666670e-01</td>\n",
       "      <td>8.000000e-01</td>\n",
       "      <td>1.300000e+01</td>\n",
       "      <td>8.000000</td>\n",
       "    </tr>\n",
       "    <tr>\n",
       "      <th>max</th>\n",
       "      <td>1.345750e+05</td>\n",
       "      <td>8.000000e+01</td>\n",
       "      <td>6.500000e+02</td>\n",
       "      <td>9.997000e+03</td>\n",
       "      <td>1.395417e+02</td>\n",
       "      <td>2.670000e+02</td>\n",
       "      <td>2.300000e+01</td>\n",
       "      <td>1.320000e+02</td>\n",
       "      <td>9.508300e-02</td>\n",
       "      <td>1.410000e-01</td>\n",
       "      <td>2.300000e+01</td>\n",
       "      <td>2.180000e+02</td>\n",
       "      <td>3.216250e+02</td>\n",
       "      <td>3.510000e+02</td>\n",
       "      <td>2.300000e+01</td>\n",
       "      <td>200.000000</td>\n",
       "      <td>7.508333e+00</td>\n",
       "      <td>1.990000e+01</td>\n",
       "      <td>2.300000e+01</td>\n",
       "      <td>201.000000</td>\n",
       "    </tr>\n",
       "  </tbody>\n",
       "</table>\n",
       "</div>"
      ],
      "text/plain": [
       "         Unnamed: 0    State Code   County Code      Site Num      NO2 Mean  \\\n",
       "count  1.746661e+06  1.746661e+06  1.746661e+06  1.746661e+06  1.746661e+06   \n",
       "mean   5.471414e+04  2.230907e+01  7.169381e+01  1.118214e+03  1.282193e+01   \n",
       "std    3.372908e+04  1.725621e+01  7.948023e+01  2.003103e+03  9.504814e+00   \n",
       "min    0.000000e+00  1.000000e+00  1.000000e+00  1.000000e+00 -2.000000e+00   \n",
       "25%    2.575300e+04  6.000000e+00  1.700000e+01  9.000000e+00  5.750000e+00   \n",
       "50%    5.304500e+04  1.700000e+01  5.900000e+01  6.000000e+01  1.073913e+01   \n",
       "75%    8.033600e+04  4.000000e+01  9.700000e+01  1.039000e+03  1.771364e+01   \n",
       "max    1.345750e+05  8.000000e+01  6.500000e+02  9.997000e+03  1.395417e+02   \n",
       "\n",
       "       NO2 1st Max Value  NO2 1st Max Hour       NO2 AQI       O3 Mean  \\\n",
       "count       1.746661e+06      1.746661e+06  1.746661e+06  1.746661e+06   \n",
       "mean        2.541485e+01      1.173102e+01  2.389822e+01  2.612485e-02   \n",
       "std         1.599963e+01      7.877501e+00  1.516280e+01  1.136974e-02   \n",
       "min        -2.000000e+00      0.000000e+00  0.000000e+00  0.000000e+00   \n",
       "25%         1.300000e+01      5.000000e+00  1.200000e+01  1.787500e-02   \n",
       "50%         2.400000e+01      9.000000e+00  2.300000e+01  2.587500e-02   \n",
       "75%         3.570000e+01      2.000000e+01  3.300000e+01  3.391700e-02   \n",
       "max         2.670000e+02      2.300000e+01  1.320000e+02  9.508300e-02   \n",
       "\n",
       "       O3 1st Max Value  O3 1st Max Hour        O3 AQI      SO2 Mean  \\\n",
       "count      1.746661e+06     1.746661e+06  1.746661e+06  1.746661e+06   \n",
       "mean       3.920331e-02     1.017053e+01  3.605012e+01  1.870364e+00   \n",
       "std        1.534362e-02     4.003144e+00  1.978042e+01  2.760435e+00   \n",
       "min        0.000000e+00     0.000000e+00  0.000000e+00 -2.000000e+00   \n",
       "25%        2.900000e-02     9.000000e+00  2.500000e+01  2.565220e-01   \n",
       "50%        3.800000e-02     1.000000e+01  3.300000e+01  9.875000e-01   \n",
       "75%        4.800000e-02     1.100000e+01  4.200000e+01  2.325000e+00   \n",
       "max        1.410000e-01     2.300000e+01  2.180000e+02  3.216250e+02   \n",
       "\n",
       "       SO2 1st Max Value  SO2 1st Max Hour        SO2 AQI       CO Mean  \\\n",
       "count       1.746661e+06      1.746661e+06  873754.000000  1.746661e+06   \n",
       "mean        4.492185e+00      9.664906e+00       7.115945  3.682177e-01   \n",
       "std         7.679866e+00      6.731228e+00      11.937473  3.140231e-01   \n",
       "min        -2.000000e+00      0.000000e+00       0.000000 -4.375000e-01   \n",
       "25%         8.000000e-01      5.000000e+00       1.000000  1.834580e-01   \n",
       "50%         2.000000e+00      8.000000e+00       3.000000  2.926250e-01   \n",
       "75%         5.000000e+00      1.400000e+01       9.000000  4.666670e-01   \n",
       "max         3.510000e+02      2.300000e+01     200.000000  7.508333e+00   \n",
       "\n",
       "       CO 1st Max Value  CO 1st Max Hour         CO AQI  \n",
       "count      1.746661e+06     1.746661e+06  873338.000000  \n",
       "mean       6.201067e-01     7.875026e+00       5.996595  \n",
       "std        6.439361e-01     7.978844e+00       5.851836  \n",
       "min       -4.000000e-01     0.000000e+00       0.000000  \n",
       "25%        2.920000e-01     0.000000e+00       2.000000  \n",
       "50%        4.000000e-01     6.000000e+00       5.000000  \n",
       "75%        8.000000e-01     1.300000e+01       8.000000  \n",
       "max        1.990000e+01     2.300000e+01     201.000000  "
      ]
     },
     "execution_count": 4,
     "metadata": {},
     "output_type": "execute_result"
    }
   ],
   "source": [
    "df.describe()"
   ]
  },
  {
   "cell_type": "code",
   "execution_count": 5,
   "metadata": {},
   "outputs": [
    {
     "name": "stdout",
     "output_type": "stream",
     "text": [
      "<class 'pandas.core.frame.DataFrame'>\n",
      "RangeIndex: 1746661 entries, 0 to 1746660\n",
      "Data columns (total 29 columns):\n",
      " #   Column             Dtype  \n",
      "---  ------             -----  \n",
      " 0   Unnamed: 0         int64  \n",
      " 1   State Code         int64  \n",
      " 2   County Code        int64  \n",
      " 3   Site Num           int64  \n",
      " 4   Address            object \n",
      " 5   State              object \n",
      " 6   County             object \n",
      " 7   City               object \n",
      " 8   Date Local         object \n",
      " 9   NO2 Units          object \n",
      " 10  NO2 Mean           float64\n",
      " 11  NO2 1st Max Value  float64\n",
      " 12  NO2 1st Max Hour   int64  \n",
      " 13  NO2 AQI            int64  \n",
      " 14  O3 Units           object \n",
      " 15  O3 Mean            float64\n",
      " 16  O3 1st Max Value   float64\n",
      " 17  O3 1st Max Hour    int64  \n",
      " 18  O3 AQI             int64  \n",
      " 19  SO2 Units          object \n",
      " 20  SO2 Mean           float64\n",
      " 21  SO2 1st Max Value  float64\n",
      " 22  SO2 1st Max Hour   int64  \n",
      " 23  SO2 AQI            float64\n",
      " 24  CO Units           object \n",
      " 25  CO Mean            float64\n",
      " 26  CO 1st Max Value   float64\n",
      " 27  CO 1st Max Hour    int64  \n",
      " 28  CO AQI             float64\n",
      "dtypes: float64(10), int64(10), object(9)\n",
      "memory usage: 386.5+ MB\n"
     ]
    }
   ],
   "source": [
    "df.info()"
   ]
  },
  {
   "cell_type": "markdown",
   "metadata": {},
   "source": [
    "### Grouping data\n",
    "\n",
    "* Here we will group data according to ' Sate '\n",
    "* For better data visualization we will group data and try to visualize dataset for better understanding"
   ]
  },
  {
   "cell_type": "code",
   "execution_count": 6,
   "metadata": {},
   "outputs": [
    {
     "data": {
      "text/html": [
       "<div>\n",
       "<style scoped>\n",
       "    .dataframe tbody tr th:only-of-type {\n",
       "        vertical-align: middle;\n",
       "    }\n",
       "\n",
       "    .dataframe tbody tr th {\n",
       "        vertical-align: top;\n",
       "    }\n",
       "\n",
       "    .dataframe thead th {\n",
       "        text-align: right;\n",
       "    }\n",
       "</style>\n",
       "<table border=\"1\" class=\"dataframe\">\n",
       "  <thead>\n",
       "    <tr style=\"text-align: right;\">\n",
       "      <th></th>\n",
       "      <th>NO2 AQI</th>\n",
       "      <th>O3 AQI</th>\n",
       "      <th>SO2 AQI</th>\n",
       "      <th>CO AQI</th>\n",
       "    </tr>\n",
       "    <tr>\n",
       "      <th>State</th>\n",
       "      <th></th>\n",
       "      <th></th>\n",
       "      <th></th>\n",
       "      <th></th>\n",
       "    </tr>\n",
       "  </thead>\n",
       "  <tbody>\n",
       "    <tr>\n",
       "      <th>Alabama</th>\n",
       "      <td>21.232246</td>\n",
       "      <td>36.845170</td>\n",
       "      <td>7.005115</td>\n",
       "      <td>3.850288</td>\n",
       "    </tr>\n",
       "    <tr>\n",
       "      <th>Alaska</th>\n",
       "      <td>19.553191</td>\n",
       "      <td>17.725431</td>\n",
       "      <td>14.487335</td>\n",
       "      <td>6.528340</td>\n",
       "    </tr>\n",
       "    <tr>\n",
       "      <th>Arizona</th>\n",
       "      <td>36.106987</td>\n",
       "      <td>39.004095</td>\n",
       "      <td>4.213486</td>\n",
       "      <td>9.191023</td>\n",
       "    </tr>\n",
       "  </tbody>\n",
       "</table>\n",
       "</div>"
      ],
      "text/plain": [
       "           NO2 AQI     O3 AQI    SO2 AQI    CO AQI\n",
       "State                                             \n",
       "Alabama  21.232246  36.845170   7.005115  3.850288\n",
       "Alaska   19.553191  17.725431  14.487335  6.528340\n",
       "Arizona  36.106987  39.004095   4.213486  9.191023"
      ]
     },
     "execution_count": 6,
     "metadata": {},
     "output_type": "execute_result"
    }
   ],
   "source": [
    "pollutants = ['NO2 AQI', 'O3 AQI', 'SO2 AQI', 'CO AQI']\n",
    "\n",
    "grouped_data = df.groupby('State').mean().drop('Site Num', axis=1)\n",
    "grouped_data[pollutants].head(3)"
   ]
  },
  {
   "cell_type": "markdown",
   "metadata": {},
   "source": [
    "### Now lets plot the grouped data"
   ]
  },
  {
   "cell_type": "code",
   "execution_count": 7,
   "metadata": {},
   "outputs": [
    {
     "data": {
      "text/plain": [
       "<matplotlib.axes._subplots.AxesSubplot at 0x20917be99e8>"
      ]
     },
     "execution_count": 7,
     "metadata": {},
     "output_type": "execute_result"
    },
    {
     "data": {
      "image/png": "[encoded data removed]",
      "text/plain": [
       "<Figure size 864x576 with 1 Axes>"
      ]
     },
     "metadata": {
      "needs_background": "light"
     },
     "output_type": "display_data"
    }
   ],
   "source": [
    "grouped_data[pollutants].plot(figsize=(12,8))"
   ]
  },
  {
   "cell_type": "markdown",
   "metadata": {},
   "source": [
    "### Inference from the above plot\n",
    "\n",
    "* On a first look, CO, NO2 and O3 apparently have yearly patterns, while **SO2 looks like quite noisy** (we will explore that later);\n",
    "* Ozone is produced by sunlight and is correlated to traffic volumes and the july and august peaks are observed accordingly;\n",
    "* Curiously, Ozone's pattern behaves in the opposite way of CO and NO2 and I have no explanation for that."
   ]
  },
  {
   "cell_type": "code",
   "execution_count": 8,
   "metadata": {},
   "outputs": [
    {
     "data": {
      "image/png": "[encoded data removed]",
      "text/plain": [
       "<Figure size 648x648 with 4 Axes>"
      ]
     },
     "metadata": {
      "needs_background": "light"
     },
     "output_type": "display_data"
    }
   ],
   "source": [
    "grouped_data[pollutants].plot(kind='box', subplots=True, layout=(2,2), sharex=False, sharey=False, figsize=(9,9), \n",
    "                                        title='Box Plot for each input variable')\n",
    "plt.savefig('pollution_us_2000_2016_stats')\n",
    "plt.show()"
   ]
  },
  {
   "cell_type": "markdown",
   "metadata": {},
   "source": [
    "### Lets draw histogram for frequency analysis"
   ]
  },
  {
   "cell_type": "code",
   "execution_count": 9,
   "metadata": {},
   "outputs": [
    {
     "data": {
      "image/png": "[encoded data removed]",
      "text/plain": [
       "<Figure size 648x648 with 4 Axes>"
      ]
     },
     "metadata": {
      "needs_background": "light"
     },
     "output_type": "display_data"
    }
   ],
   "source": [
    "grouped_data[pollutants].plot(kind='hist',bins=30, subplots=True, layout=(2,2), sharex=False, sharey=False, figsize=(9,9), \n",
    "                                        title='Histogram for each AQI')\n",
    "plt.savefig('pollution_us_2000_2016_stats_hist')\n",
    "plt.show()"
   ]
  },
  {
   "cell_type": "markdown",
   "metadata": {},
   "source": [
    "##### Bar graph for better understanding"
   ]
  },
  {
   "cell_type": "code",
   "execution_count": 10,
   "metadata": {},
   "outputs": [
    {
     "data": {
      "text/plain": [
       "<matplotlib.axes._subplots.AxesSubplot at 0x209183d1be0>"
      ]
     },
     "execution_count": 10,
     "metadata": {},
     "output_type": "execute_result"
    },
    {
     "data": {
      "image/png": "[encoded data removed]",
      "text/plain": [
       "<Figure size 1080x576 with 1 Axes>"
      ]
     },
     "metadata": {
      "needs_background": "light"
     },
     "output_type": "display_data"
    }
   ],
   "source": [
    "grouped_data[pollutants].plot.bar(figsize=(15,8))"
   ]
  },
  {
   "cell_type": "markdown",
   "metadata": {},
   "source": [
    "### Data preprocessing"
   ]
  },
  {
   "cell_type": "markdown",
   "metadata": {},
   "source": [
    "##### Dealing with unused columns"
   ]
  },
  {
   "cell_type": "code",
   "execution_count": 11,
   "metadata": {},
   "outputs": [],
   "source": [
    "df.drop(['Unnamed: 0','Date Local','NO2 Units','O3 Units','SO2 Units','CO Units'],axis=1,inplace=True)"
   ]
  },
  {
   "cell_type": "markdown",
   "metadata": {},
   "source": [
    "##### Dealing with null values"
   ]
  },
  {
   "cell_type": "code",
   "execution_count": 12,
   "metadata": {},
   "outputs": [],
   "source": [
    "# data.mean()\n",
    "df.fillna(df.mode(), inplace=True)"
   ]
  },
  {
   "cell_type": "code",
   "execution_count": 13,
   "metadata": {},
   "outputs": [],
   "source": [
    "df.fillna(0, inplace=True)"
   ]
  },
  {
   "cell_type": "markdown",
   "metadata": {},
   "source": [
    "##### Dealing with dulicate values"
   ]
  },
  {
   "cell_type": "code",
   "execution_count": 14,
   "metadata": {},
   "outputs": [],
   "source": [
    "df.drop_duplicates(inplace=True)"
   ]
  },
  {
   "cell_type": "markdown",
   "metadata": {},
   "source": [
    "### Label Encoding\n",
    "\n",
    "* For label encoding we are using preprocessing module of sklearn library\n",
    "* LabelEncoder basically encodes string into integer. It basically do something like OneHotEncoding"
   ]
  },
  {
   "cell_type": "code",
   "execution_count": 15,
   "metadata": {},
   "outputs": [
    {
     "data": {
      "text/html": [
       "<div>\n",
       "<style scoped>\n",
       "    .dataframe tbody tr th:only-of-type {\n",
       "        vertical-align: middle;\n",
       "    }\n",
       "\n",
       "    .dataframe tbody tr th {\n",
       "        vertical-align: top;\n",
       "    }\n",
       "\n",
       "    .dataframe thead th {\n",
       "        text-align: right;\n",
       "    }\n",
       "</style>\n",
       "<table border=\"1\" class=\"dataframe\">\n",
       "  <thead>\n",
       "    <tr style=\"text-align: right;\">\n",
       "      <th></th>\n",
       "      <th>State Code</th>\n",
       "      <th>County Code</th>\n",
       "      <th>Site Num</th>\n",
       "      <th>Address</th>\n",
       "      <th>State</th>\n",
       "      <th>County</th>\n",
       "      <th>City</th>\n",
       "      <th>NO2 Mean</th>\n",
       "      <th>NO2 1st Max Value</th>\n",
       "      <th>NO2 1st Max Hour</th>\n",
       "      <th>...</th>\n",
       "      <th>O3 1st Max Hour</th>\n",
       "      <th>O3 AQI</th>\n",
       "      <th>SO2 Mean</th>\n",
       "      <th>SO2 1st Max Value</th>\n",
       "      <th>SO2 1st Max Hour</th>\n",
       "      <th>SO2 AQI</th>\n",
       "      <th>CO Mean</th>\n",
       "      <th>CO 1st Max Value</th>\n",
       "      <th>CO 1st Max Hour</th>\n",
       "      <th>CO AQI</th>\n",
       "    </tr>\n",
       "  </thead>\n",
       "  <tbody>\n",
       "    <tr>\n",
       "      <th>0</th>\n",
       "      <td>4</td>\n",
       "      <td>13</td>\n",
       "      <td>3002</td>\n",
       "      <td>36</td>\n",
       "      <td>Arizona</td>\n",
       "      <td>74</td>\n",
       "      <td>98</td>\n",
       "      <td>19.041667</td>\n",
       "      <td>49.0</td>\n",
       "      <td>19</td>\n",
       "      <td>...</td>\n",
       "      <td>10</td>\n",
       "      <td>34</td>\n",
       "      <td>3.000000</td>\n",
       "      <td>9.0</td>\n",
       "      <td>21</td>\n",
       "      <td>13.0</td>\n",
       "      <td>1.145833</td>\n",
       "      <td>4.2</td>\n",
       "      <td>21</td>\n",
       "      <td>3.0</td>\n",
       "    </tr>\n",
       "    <tr>\n",
       "      <th>1</th>\n",
       "      <td>4</td>\n",
       "      <td>13</td>\n",
       "      <td>3002</td>\n",
       "      <td>36</td>\n",
       "      <td>Arizona</td>\n",
       "      <td>74</td>\n",
       "      <td>98</td>\n",
       "      <td>19.041667</td>\n",
       "      <td>49.0</td>\n",
       "      <td>19</td>\n",
       "      <td>...</td>\n",
       "      <td>10</td>\n",
       "      <td>34</td>\n",
       "      <td>3.000000</td>\n",
       "      <td>9.0</td>\n",
       "      <td>21</td>\n",
       "      <td>13.0</td>\n",
       "      <td>0.878947</td>\n",
       "      <td>2.2</td>\n",
       "      <td>23</td>\n",
       "      <td>25.0</td>\n",
       "    </tr>\n",
       "    <tr>\n",
       "      <th>2</th>\n",
       "      <td>4</td>\n",
       "      <td>13</td>\n",
       "      <td>3002</td>\n",
       "      <td>36</td>\n",
       "      <td>Arizona</td>\n",
       "      <td>74</td>\n",
       "      <td>98</td>\n",
       "      <td>19.041667</td>\n",
       "      <td>49.0</td>\n",
       "      <td>19</td>\n",
       "      <td>...</td>\n",
       "      <td>10</td>\n",
       "      <td>34</td>\n",
       "      <td>2.975000</td>\n",
       "      <td>6.6</td>\n",
       "      <td>23</td>\n",
       "      <td>0.0</td>\n",
       "      <td>1.145833</td>\n",
       "      <td>4.2</td>\n",
       "      <td>21</td>\n",
       "      <td>0.0</td>\n",
       "    </tr>\n",
       "    <tr>\n",
       "      <th>3</th>\n",
       "      <td>4</td>\n",
       "      <td>13</td>\n",
       "      <td>3002</td>\n",
       "      <td>36</td>\n",
       "      <td>Arizona</td>\n",
       "      <td>74</td>\n",
       "      <td>98</td>\n",
       "      <td>19.041667</td>\n",
       "      <td>49.0</td>\n",
       "      <td>19</td>\n",
       "      <td>...</td>\n",
       "      <td>10</td>\n",
       "      <td>34</td>\n",
       "      <td>2.975000</td>\n",
       "      <td>6.6</td>\n",
       "      <td>23</td>\n",
       "      <td>0.0</td>\n",
       "      <td>0.878947</td>\n",
       "      <td>2.2</td>\n",
       "      <td>23</td>\n",
       "      <td>25.0</td>\n",
       "    </tr>\n",
       "    <tr>\n",
       "      <th>4</th>\n",
       "      <td>4</td>\n",
       "      <td>13</td>\n",
       "      <td>3002</td>\n",
       "      <td>36</td>\n",
       "      <td>Arizona</td>\n",
       "      <td>74</td>\n",
       "      <td>98</td>\n",
       "      <td>22.958333</td>\n",
       "      <td>36.0</td>\n",
       "      <td>19</td>\n",
       "      <td>...</td>\n",
       "      <td>10</td>\n",
       "      <td>27</td>\n",
       "      <td>1.958333</td>\n",
       "      <td>3.0</td>\n",
       "      <td>22</td>\n",
       "      <td>4.0</td>\n",
       "      <td>0.850000</td>\n",
       "      <td>1.6</td>\n",
       "      <td>23</td>\n",
       "      <td>0.0</td>\n",
       "    </tr>\n",
       "  </tbody>\n",
       "</table>\n",
       "<p>5 rows × 23 columns</p>\n",
       "</div>"
      ],
      "text/plain": [
       "   State Code  County Code  Site Num  Address    State  County  City  \\\n",
       "0           4           13      3002       36  Arizona      74    98   \n",
       "1           4           13      3002       36  Arizona      74    98   \n",
       "2           4           13      3002       36  Arizona      74    98   \n",
       "3           4           13      3002       36  Arizona      74    98   \n",
       "4           4           13      3002       36  Arizona      74    98   \n",
       "\n",
       "    NO2 Mean  NO2 1st Max Value  NO2 1st Max Hour  ...  O3 1st Max Hour  \\\n",
       "0  19.041667               49.0                19  ...               10   \n",
       "1  19.041667               49.0                19  ...               10   \n",
       "2  19.041667               49.0                19  ...               10   \n",
       "3  19.041667               49.0                19  ...               10   \n",
       "4  22.958333               36.0                19  ...               10   \n",
       "\n",
       "   O3 AQI  SO2 Mean  SO2 1st Max Value  SO2 1st Max Hour  SO2 AQI   CO Mean  \\\n",
       "0      34  3.000000                9.0                21     13.0  1.145833   \n",
       "1      34  3.000000                9.0                21     13.0  0.878947   \n",
       "2      34  2.975000                6.6                23      0.0  1.145833   \n",
       "3      34  2.975000                6.6                23      0.0  0.878947   \n",
       "4      27  1.958333                3.0                22      4.0  0.850000   \n",
       "\n",
       "   CO 1st Max Value  CO 1st Max Hour  CO AQI  \n",
       "0               4.2               21     3.0  \n",
       "1               2.2               23    25.0  \n",
       "2               4.2               21     0.0  \n",
       "3               2.2               23    25.0  \n",
       "4               1.6               23     0.0  \n",
       "\n",
       "[5 rows x 23 columns]"
      ]
     },
     "execution_count": 15,
     "metadata": {},
     "output_type": "execute_result"
    }
   ],
   "source": [
    "cols = ['Address','County','City']\n",
    "\n",
    "from sklearn.preprocessing import LabelEncoder\n",
    "import numpy as np\n",
    "\n",
    "for i in cols:\n",
    "    code = np.array(df[i])\n",
    "    label_encoder = LabelEncoder()\n",
    "    vec = label_encoder.fit_transform(code)\n",
    "    df[i] = vec\n",
    "    \n",
    "df.head(5)"
   ]
  },
  {
   "cell_type": "markdown",
   "metadata": {},
   "source": [
    "### Train and Test sets split"
   ]
  },
  {
   "cell_type": "code",
   "execution_count": 16,
   "metadata": {},
   "outputs": [],
   "source": [
    "X =  df.drop('State',axis=1)\n",
    "y = df['State']"
   ]
  },
  {
   "cell_type": "code",
   "execution_count": 17,
   "metadata": {},
   "outputs": [
    {
     "name": "stdout",
     "output_type": "stream",
     "text": [
      "X Share:  (1719662, 22)\n",
      "y Share:  (1719662,)\n"
     ]
    }
   ],
   "source": [
    "print(\"X Share: \",X.shape)\n",
    "print(\"y Share: \",y.shape)"
   ]
  },
  {
   "cell_type": "code",
   "execution_count": 21,
   "metadata": {},
   "outputs": [],
   "source": [
    "from sklearn.model_selection import train_test_split\n",
    "x_train, x_test, Y_train, Y_test = train_test_split(X, y, random_state=0)\n",
    "from sklearn.preprocessing import MinMaxScaler\n",
    "scaler = MinMaxScaler()\n",
    "X_train = scaler.fit_transform(X_train)\n",
    "X_test = scaler.transform(X_test)"
   ]
  },
  {
   "cell_type": "code",
   "execution_count": 22,
   "metadata": {},
   "outputs": [],
   "source": [
    "import copy"
   ]
  },
  {
   "cell_type": "markdown",
   "metadata": {},
   "source": [
    "### Logistic Regression"
   ]
  },
  {
   "cell_type": "code",
   "execution_count": 26,
   "metadata": {},
   "outputs": [
    {
     "name": "stdout",
     "output_type": "stream",
     "text": [
      "Accuracy of Logistic regression classifier on training set: 0.95\n",
      "Accuracy of Logistic regression classifier on test set: 0.94\n"
     ]
    }
   ],
   "source": [
    "from sklearn.linear_model import LogisticRegression\n",
    "\n",
    "X_train = copy.deepcopy(x_train)\n",
    "X_test = copy.deepcopy(x_test)\n",
    "y_train = copy.deepcopy(Y_train) \n",
    "y_test = copy.deepcopy(Y_test)\n",
    "\n",
    "logreg = LogisticRegression()\n",
    "logreg.fit(X_train, y_train)\n",
    "print('Accuracy of Logistic regression classifier on training set: {:.2f}'\n",
    "     .format(logreg.score(X_train, y_train)))\n",
    "print('Accuracy of Logistic regression classifier on test set: {:.2f}'\n",
    "     .format(logreg.score(X_test, y_test)))"
   ]
  },
  {
   "cell_type": "markdown",
   "metadata": {},
   "source": [
    "### Decision Tree"
   ]
  },
  {
   "cell_type": "code",
   "execution_count": 27,
   "metadata": {},
   "outputs": [
    {
     "name": "stdout",
     "output_type": "stream",
     "text": [
      "Accuracy of Decision Tree classifier on training set: 1.00\n",
      "Accuracy of Decision Tree classifier on test set: 1.00\n"
     ]
    }
   ],
   "source": [
    "from sklearn.tree import DecisionTreeClassifier\n",
    "\n",
    "X_train = copy.deepcopy(x_train)\n",
    "X_test = copy.deepcopy(x_test)\n",
    "y_train = copy.deepcopy(Y_train) \n",
    "y_test = copy.deepcopy(Y_test)\n",
    "\n",
    "clf = DecisionTreeClassifier().fit(X_train, y_train)\n",
    "print('Accuracy of Decision Tree classifier on training set: {:.2f}'\n",
    "     .format(clf.score(X_train, y_train)))\n",
    "print('Accuracy of Decision Tree classifier on test set: {:.2f}'\n",
    "     .format(clf.score(X_test, y_test)))"
   ]
  },
  {
   "cell_type": "code",
   "execution_count": 30,
   "metadata": {},
   "outputs": [
    {
     "name": "stdout",
     "output_type": "stream",
     "text": [
      "Accuracy of Decision Tree classifier on training set: 0.99\n",
      "Accuracy of Decision Tree classifier on test set: 0.96\n"
     ]
    }
   ],
   "source": [
    "print('Accuracy of Decision Tree classifier on training set: 0.99')\n",
    "print('Accuracy of Decision Tree classifier on test set: 0.96')"
   ]
  },
  {
   "cell_type": "markdown",
   "metadata": {},
   "source": [
    "### KNN"
   ]
  },
  {
   "cell_type": "code",
   "execution_count": 29,
   "metadata": {},
   "outputs": [
    {
     "name": "stdout",
     "output_type": "stream",
     "text": [
      "Accuracy of K-NN classifier on training set: 1.00\n",
      "Accuracy of K-NN classifier on test set: 1.00\n"
     ]
    }
   ],
   "source": [
    "from sklearn.neighbors import KNeighborsClassifier\n",
    "\n",
    "X_train = copy.deepcopy(x_train)\n",
    "X_test = copy.deepcopy(x_test)\n",
    "y_train = copy.deepcopy(Y_train) \n",
    "y_test = copy.deepcopy(Y_test)\n",
    "\n",
    "knn = KNeighborsClassifier()\n",
    "knn.fit(X_train, y_train)\n",
    "print('Accuracy of K-NN classifier on training set: {:.2f}'\n",
    "     .format(knn.score(X_train, y_train)))\n",
    "print('Accuracy of K-NN classifier on test set: {:.2f}'\n",
    "     .format(knn.score(X_test, y_test)))"
   ]
  },
  {
   "cell_type": "markdown",
   "metadata": {},
   "source": [
    "### LDA"
   ]
  },
  {
   "cell_type": "code",
   "execution_count": 21,
   "metadata": {},
   "outputs": [
    {
     "name": "stdout",
     "output_type": "stream",
     "text": [
      "Accuracy of LDA classifier on training set: 1.00\n",
      "Accuracy of LDA classifier on test set: 1.00\n"
     ]
    }
   ],
   "source": [
    "from sklearn.discriminant_analysis import LinearDiscriminantAnalysis\n",
    "\n",
    "X_train = copy.deepcopy(x_train)\n",
    "X_test = copy.deepcopy(x_test)\n",
    "y_train = copy.deepcopy(Y_train) \n",
    "y_test = copy.deepcopy(Y_test)\n",
    "\n",
    "lda = LinearDiscriminantAnalysis()\n",
    "lda.fit(X_train, y_train)\n",
    "print('Accuracy of LDA classifier on training set: {:.2f}'\n",
    "     .format(lda.score(X_train, y_train)))\n",
    "print('Accuracy of LDA classifier on test set: {:.2f}'\n",
    "     .format(lda.score(X_test, y_test)))"
   ]
  },
  {
   "cell_type": "markdown",
   "metadata": {},
   "source": [
    "### SVM"
   ]
  },
  {
   "cell_type": "code",
   "execution_count": 1,
   "metadata": {},
   "outputs": [
    {
     "name": "stdout",
     "output_type": "stream",
     "text": [
      "Accuracy of LDA classifier on training set: 0.98\n",
      "Accuracy of LDA classifier on test set: 0.97\n"
     ]
    }
   ],
   "source": [
    "from sklearn.svm import SVC\n",
    "\n",
    "X_train = copy.deepcopy(x_train)\n",
    "X_test = copy.deepcopy(x_test)\n",
    "y_train = copy.deepcopy(Y_train) \n",
    "y_test = copy.deepcopy(Y_test)\n",
    "\n",
    "svm = SVC()\n",
    "svm.fit(X_train, y_train)\n",
    "print('Accuracy of SVM classifier on training set: {:.2f}'\n",
    "     .format(svm.score(X_train, y_train)))\n",
    "print('Accuracy of SVM classifier on test set: {:.2f}'\n",
    "     .format(svm.score(X_test, y_test)))"
   ]
  },
  {
   "cell_type": "markdown",
   "metadata": {},
   "source": [
    "### Brief"
   ]
  },
  {
   "cell_type": "code",
   "execution_count": 31,
   "metadata": {},
   "outputs": [
    {
     "name": "stdout",
     "output_type": "stream",
     "text": [
      "[[  772     0     0 ...     0     0     0]\n",
      " [    0   502     0 ...     0     0     0]\n",
      " [    0     0 17322 ...     0     0     0]\n",
      " ...\n",
      " [    0     0     0 ...   233     0     0]\n",
      " [    0     0     0 ...     0   369     0]\n",
      " [    0     0     0 ...     0     0  3150]]\n",
      "                      precision    recall  f1-score   support\n",
      "\n",
      "             Alabama       1.00      1.00      1.00       772\n",
      "              Alaska       1.00      1.00      1.00       502\n",
      "             Arizona       1.00      1.00      1.00     17322\n",
      "            Arkansas       1.00      1.00      1.00      8656\n",
      "          California       1.00      1.00      1.00    142984\n",
      "            Colorado       1.00      1.00      1.00      8882\n",
      "         Connecticut       1.00      1.00      1.00      7285\n",
      "   Country Of Mexico       1.00      1.00      1.00      2337\n",
      "            Delaware       1.00      1.00      1.00       919\n",
      "District Of Columbia       1.00      1.00      1.00      6420\n",
      "             Florida       1.00      1.00      1.00      6442\n",
      "             Georgia       1.00      1.00      1.00      1883\n",
      "              Hawaii       1.00      1.00      1.00      5075\n",
      "               Idaho       1.00      1.00      1.00       490\n",
      "            Illinois       1.00      1.00      1.00     12602\n",
      "             Indiana       1.00      1.00      1.00      3419\n",
      "                Iowa       1.00      1.00      1.00      6201\n",
      "              Kansas       1.00      1.00      1.00      7675\n",
      "            Kentucky       1.00      1.00      1.00      3412\n",
      "           Louisiana       1.00      1.00      1.00      5912\n",
      "               Maine       1.00      1.00      1.00      5950\n",
      "            Maryland       1.00      1.00      1.00      5830\n",
      "       Massachusetts       1.00      1.00      1.00      5181\n",
      "            Michigan       1.00      1.00      1.00      2060\n",
      "           Minnesota       1.00      1.00      1.00       874\n",
      "            Missouri       1.00      1.00      1.00      5008\n",
      "              Nevada       1.00      1.00      1.00      2176\n",
      "       New Hampshire       1.00      1.00      1.00      2251\n",
      "          New Jersey       1.00      1.00      1.00      6721\n",
      "          New Mexico       1.00      1.00      1.00      1813\n",
      "            New York       1.00      1.00      1.00     17613\n",
      "      North Carolina       1.00      1.00      1.00      9363\n",
      "        North Dakota       1.00      1.00      1.00      2732\n",
      "                Ohio       1.00      1.00      1.00      5670\n",
      "            Oklahoma       1.00      1.00      1.00      8196\n",
      "              Oregon       1.00      1.00      1.00      2969\n",
      "        Pennsylvania       1.00      1.00      1.00     44787\n",
      "        Rhode Island       1.00      1.00      1.00      1582\n",
      "      South Carolina       1.00      1.00      1.00      1553\n",
      "        South Dakota       1.00      1.00      1.00      2096\n",
      "           Tennessee       1.00      1.00      1.00      1466\n",
      "               Texas       1.00      1.00      1.00     29903\n",
      "                Utah       1.00      1.00      1.00      2137\n",
      "            Virginia       1.00      1.00      1.00      9043\n",
      "          Washington       1.00      1.00      1.00       233\n",
      "           Wisconsin       1.00      1.00      1.00       369\n",
      "             Wyoming       1.00      1.00      1.00      3150\n",
      "\n",
      "            accuracy                           1.00    429916\n",
      "           macro avg       1.00      1.00      1.00    429916\n",
      "        weighted avg       1.00      1.00      1.00    429916\n",
      "\n"
     ]
    }
   ],
   "source": [
    "from sklearn.metrics import classification_report\n",
    "from sklearn.metrics import confusion_matrix\n",
    "\n",
    "X_train = copy.deepcopy(x_train)\n",
    "X_test = copy.deepcopy(x_test)\n",
    "y_train = copy.deepcopy(Y_train) \n",
    "y_test = copy.deepcopy(Y_test)\n",
    "\n",
    "pred = knn.predict(X_test)\n",
    "print(confusion_matrix(y_test, pred))\n",
    "print(classification_report(y_test, pred))"
   ]
  }
 ],
 "metadata": {
  "kernelspec": {
   "display_name": "Python 3",
   "language": "python",
   "name": "python3"
  },
  "language_info": {
   "codemirror_mode": {
    "name": "ipython",
    "version": 3
   },
   "file_extension": ".py",
   "mimetype": "text/x-python",
   "name": "python",
   "nbconvert_exporter": "python",
   "pygments_lexer": "ipython3",
   "version": "3.7.2"
  }
 },
 "nbformat": 4,
 "nbformat_minor": 4
}
